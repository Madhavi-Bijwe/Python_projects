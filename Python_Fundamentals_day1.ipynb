{
  "nbformat": 4,
  "nbformat_minor": 0,
  "metadata": {
    "colab": {
      "provenance": [],
      "authorship_tag": "ABX9TyPBSSFdy+cryqCKj0E/HClE",
      "include_colab_link": true
    },
    "kernelspec": {
      "name": "python3",
      "display_name": "Python 3"
    },
    "language_info": {
      "name": "python"
    }
  },
  "cells": [
    {
      "cell_type": "markdown",
      "metadata": {
        "id": "view-in-github",
        "colab_type": "text"
      },
      "source": [
        "<a href=\"https://colab.research.google.com/github/Madhavi-Bijwe/Python_projects/blob/main/Python_Fundamentals_day1.ipynb\" target=\"_parent\"><img src=\"https://colab.research.google.com/assets/colab-badge.svg\" alt=\"Open In Colab\"/></a>"
      ]
    },
    {
      "cell_type": "markdown",
      "source": [
        "1. Write a code to find the minimum among three given numbers\n",
        "\n"
      ],
      "metadata": {
        "id": "8DhwK6Wpk_j9"
      }
    },
    {
      "cell_type": "code",
      "execution_count": null,
      "metadata": {
        "colab": {
          "base_uri": "https://localhost:8080/"
        },
        "id": "86ajBTppkR2O",
        "outputId": "eb7ea6e6-f130-4d35-ab1c-fb13090da8e0"
      },
      "outputs": [
        {
          "output_type": "stream",
          "name": "stdout",
          "text": [
            "Enter the three no:5 78 54\n",
            "78 is largest\n"
          ]
        }
      ],
      "source": [
        "\n",
        "a,b,c=map(int,input(\"Enter the three no:\").split())\n",
        "if a>b and a>c:\n",
        "    print(f\"{a} is largest\")\n",
        "elif b>a and b>c:\n",
        "    print(f\"{b} is largest\")\n",
        "else:\n",
        "    print(f\"{c} is largest\")\n"
      ]
    },
    {
      "cell_type": "markdown",
      "source": [
        "2. Write a code to check whether a given number is a palindrome.\n"
      ],
      "metadata": {
        "id": "x8dSiT44kp2z"
      }
    },
    {
      "cell_type": "code",
      "source": [
        "num=int(input(\"Enter a num: \"))\n",
        "n=num\n",
        "rem,rev=0,0\n",
        "while n>0:\n",
        "    rem=n%10\n",
        "    rev=rev*10+rem\n",
        "    n=n//10\n",
        "if rev==num:\n",
        "    print(\"its an palidrone no\")\n",
        "else:\n",
        "    print(\"its not an palidrone no\")\n"
      ],
      "metadata": {
        "id": "PLYbKf6rlKxg"
      },
      "execution_count": null,
      "outputs": []
    },
    {
      "cell_type": "markdown",
      "source": [
        "3. Write a code to find the sum of numbers divisible by 4.The code must allow the user to accept a number and add it to the sum if it is divisible by 4. It should continue accepting numbers as long as the user wants to provide an input and should display the final sum.\n"
      ],
      "metadata": {
        "id": "AdfmlsOjlRLh"
      }
    },
    {
      "cell_type": "code",
      "source": [
        "choice=\"y\"\n",
        "while choice==\"y\":\n",
        "    num=int(input(\"Enter a num: \"))\n",
        "    if num%4==0:\n",
        "        print(f\"Ohhooo yeah the number {num} is divisible by 4\")\n",
        "    else:\n",
        "        print(f\"Ohhooo noo the number {num} is not divisible by 4\")\n",
        "    choice=input(\"Do u still want to continue(y/n): \")"
      ],
      "metadata": {
        "id": "3XIU1guAlugC"
      },
      "execution_count": null,
      "outputs": []
    },
    {
      "cell_type": "markdown",
      "source": [
        "4. A three digit number is said to be an “Armstrong number” if the sum of the third power of its individual digits is equal to the number itself.Write a program to check whether a number is armstrong or not."
      ],
      "metadata": {
        "id": "k37yc-00l5Ny"
      }
    },
    {
      "cell_type": "code",
      "source": [
        "num=int(input(\"Enter a three digit num: \"))\n",
        "n=num\n",
        "sum=0\n",
        "while n>0:\n",
        "    rem=n%10\n",
        "    cube=rem**3\n",
        "    sum=sum+cube\n",
        "    n=n//10\n",
        "if sum==num:\n",
        "    print(\"its an armstrong no\")\n",
        "else:\n",
        "    print(\"its NOT an armstrong no\")"
      ],
      "metadata": {
        "id": "E0fs5dSsl_vZ"
      },
      "execution_count": null,
      "outputs": []
    },
    {
      "cell_type": "markdown",
      "source": [
        "5. JIT University provides scholarships to students based on their branch and score:\n",
        "\n",
        "Arts branch: Score ≥ 90 → 50% scholarship, Score is odd → 5% scholarship\n",
        "\n",
        "Engineering branch:Score > 85 → 50% scholarship, Score divisible by 7 → 5% scholarship\n",
        "\n",
        "Rules:\n",
        "If multiple conditions are valid, the student receives the highest applicable scholarship %.\n",
        "\n",
        "Final fees are calculated as:\n",
        "Scholarship amount = course fee * (scholarship% / 100)\n",
        "Final fee = course fee - scholarship amount\n",
        "\n",
        "\n",
        "Input per student: Branch, Score, Course Fee\n",
        "Output per student: Scholarship % and Final Fee\n",
        "\n",
        "Task: For 500 students, calculate and display the final fees to be paid by each student."
      ],
      "metadata": {
        "id": "CXTzk1OemMsD"
      }
    },
    {
      "cell_type": "code",
      "source": [
        "print(\"Hello there...\\n\")\n",
        "branch = input(\"Enter branch of student: \").lower()\n",
        "score = int(input(\"Enter a score of student: \"))\n",
        "course_fee = int(input(\"Enter a course fee of student: \"))\n",
        "\n",
        "scr = 0\n",
        "samt = 0\n",
        "ffee = course_fee\n",
        "\n",
        "if score >= 90 and branch == \"art\":\n",
        "    scr = 50\n",
        "    samt = course_fee * (scr / 100)\n",
        "    ffee = course_fee - samt\n",
        "elif score % 2 != 0 and branch == \"art\":\n",
        "    scr = 5\n",
        "    samt = course_fee * (scr / 100)\n",
        "    ffee = course_fee - samt\n",
        "elif score >= 85 and branch == \"engineering\":\n",
        "    scr = 50\n",
        "    samt = course_fee * (scr / 100)\n",
        "    ffee = course_fee - samt\n",
        "elif score % 7 == 0 and branch == \"engineering\":\n",
        "    scr = 5\n",
        "    samt = course_fee * (scr / 100)\n",
        "    ffee = course_fee - samt\n",
        "else:\n",
        "    print(\"No scholarship applicable.\")\n",
        "\n",
        "if scr > 0:\n",
        "    print(f\"You will get {scr}% scholarship.\")\n",
        "    print(f\"Your scholarship amount is {samt:.2f}.\")\n",
        "    print(f\"Your final fees will be {ffee:.2f}.\")"
      ],
      "metadata": {
        "id": "v-svgrhAmtJE"
      },
      "execution_count": null,
      "outputs": []
    },
    {
      "cell_type": "markdown",
      "source": [
        "6. The flight ticket rates for a round-trip (Mumbai->Dubai) were as follows:\n",
        "Rate per Adult: Rs. 37550.0\n",
        "Rate per Child: 1/3rd of the rate per adult\n",
        "Service Tax: 7% of the ticket amount (including all passengers)\n",
        "As it was a holiday season, the airline also offered a 10% discount on the final ticket cost (after inclusion of the service tax).\n",
        "Find and display the total ticket cost for a group which had adults and children.\n",
        "\n"
      ],
      "metadata": {
        "id": "lip69b7InIDM"
      }
    },
    {
      "cell_type": "code",
      "source": [
        "adults=37550\n",
        "child=(1/3)*adults\n",
        "tax=0.07\n",
        "dis=0.10\n",
        "a,c=map(int,input(\"Enter no of adults and children : \").split())\n",
        "fa=a*adults\n",
        "fc=c*child\n",
        "subtotal=fa+fc\n",
        "\n",
        "totaltax=subtotal*(1+tax)\n",
        "totaldis=totaltax*(1-dis)\n",
        "\n",
        "print(f\"Total cost after discount: {totaldis:.2f}\")"
      ],
      "metadata": {
        "id": "UqkirxLmnPN2"
      },
      "execution_count": null,
      "outputs": []
    }
  ]
}