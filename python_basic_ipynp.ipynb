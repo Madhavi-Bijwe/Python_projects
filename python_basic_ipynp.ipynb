{
  "nbformat": 4,
  "nbformat_minor": 0,
  "metadata": {
    "colab": {
      "provenance": [],
      "toc_visible": true,
      "authorship_tag": "ABX9TyOiLK9T2Ql/lw/IChQTtyqH",
      "include_colab_link": true
    },
    "kernelspec": {
      "name": "python3",
      "display_name": "Python 3"
    },
    "language_info": {
      "name": "python"
    }
  },
  "cells": [
    {
      "cell_type": "markdown",
      "metadata": {
        "id": "view-in-github",
        "colab_type": "text"
      },
      "source": [
        "<a href=\"https://colab.research.google.com/github/Madhavi-Bijwe/Python_projects/blob/main/python_basic_ipynp.ipynb\" target=\"_parent\"><img src=\"https://colab.research.google.com/assets/colab-badge.svg\" alt=\"Open In Colab\"/></a>"
      ]
    },
    {
      "cell_type": "markdown",
      "source": [
        "Loop"
      ],
      "metadata": {
        "id": "4_oABZs5RdLo"
      }
    },
    {
      "cell_type": "markdown",
      "source": [
        "1/1!+2/2!+3/3!+.."
      ],
      "metadata": {
        "id": "rOhx431IHhIp"
      }
    },
    {
      "cell_type": "code",
      "source": [
        "n=int(input(\"Enter the value for n:\" ))\n",
        "result=0\n",
        "fact=1\n",
        "\n",
        "for i in range(1,n+1):\n",
        "  fact=fact*i\n",
        "  result=result+i/fact\n",
        "\n",
        "print(result)"
      ],
      "metadata": {
        "colab": {
          "base_uri": "https://localhost:8080/"
        },
        "id": "kP0Ri9bKHtZv",
        "outputId": "c009f122-e6b3-4ae5-eff5-1eca06841382"
      },
      "execution_count": 7,
      "outputs": [
        {
          "output_type": "stream",
          "name": "stdout",
          "text": [
            "Enter the value for n:4\n",
            "2.6666666666666665\n"
          ]
        }
      ]
    },
    {
      "cell_type": "code",
      "source": [
        "# *\n",
        "# **\n",
        "# ***\n",
        "# ****\n",
        "# *****\n",
        "row=int(input(\"Enter rows: \"))\n",
        "\n",
        "for i in range(1,row+1):\n",
        "  for j in range(1,i+1):\n",
        "    print(\"*\",end='')\n",
        "  print()"
      ],
      "metadata": {
        "colab": {
          "base_uri": "https://localhost:8080/"
        },
        "id": "1bUBB9icJTk3",
        "outputId": "a5ec0d3d-e7df-4073-9991-500fd9df9f9b"
      },
      "execution_count": 23,
      "outputs": [
        {
          "output_type": "stream",
          "name": "stdout",
          "text": [
            "Enter rows: 5\n",
            "*\n",
            "**\n",
            "***\n",
            "****\n",
            "*****\n"
          ]
        }
      ]
    },
    {
      "cell_type": "code",
      "source": [
        "# 1          1\n",
        "# 121        12\n",
        "# 12321      123\n",
        "# 1234321    1234\n",
        "row=int(input(\"Enter rows: \"))\n",
        "\n",
        "for i in range(1,row+1):\n",
        "  for j in range(1,i+1):\n",
        "    print(j,end='')\n",
        "\n",
        "  for k in range(i-1,0,-1):\n",
        "    print(k,end='')\n",
        "  print()"
      ],
      "metadata": {
        "colab": {
          "base_uri": "https://localhost:8080/"
        },
        "id": "fSn15LvGJQTQ",
        "outputId": "f48d4a0c-dacd-48f1-ce9a-4d49ce9d909b"
      },
      "execution_count": 18,
      "outputs": [
        {
          "output_type": "stream",
          "name": "stdout",
          "text": [
            "Enter rows: 5\n",
            "1\n",
            "121\n",
            "12321\n",
            "1234321\n",
            "123454321\n"
          ]
        }
      ]
    },
    {
      "cell_type": "code",
      "source": [
        "# prime no\n",
        "lower=int(input(\"Enter Lower no:\"))\n",
        "upper=int(input(\"Enter upper no:\"))\n",
        "\n",
        "for i in range(lower,upper+1):\n",
        "  for j in range(2,i):\n",
        "    if i%j==0:\n",
        "      break\n",
        "  else:\n",
        "    print(i)"
      ],
      "metadata": {
        "colab": {
          "base_uri": "https://localhost:8080/"
        },
        "id": "iENhUNRkONLQ",
        "outputId": "1829d15b-29b8-492f-b53c-11641075bf56"
      },
      "execution_count": 21,
      "outputs": [
        {
          "output_type": "stream",
          "name": "stdout",
          "text": [
            "Enter Lower no:10\n",
            "Enter upper no:100\n",
            "11\n",
            "13\n",
            "17\n",
            "19\n",
            "23\n",
            "29\n",
            "31\n",
            "37\n",
            "41\n",
            "43\n",
            "47\n",
            "53\n",
            "59\n",
            "61\n",
            "67\n",
            "71\n",
            "73\n",
            "79\n",
            "83\n",
            "89\n",
            "97\n"
          ]
        }
      ]
    },
    {
      "cell_type": "markdown",
      "source": [
        "# New Section\n",
        "Strings are sequence of unicode character.\n",
        "Asci- 8 bit(256) but unicode- 16 bit\n"
      ],
      "metadata": {
        "id": "UZocrxnkQj8v"
      }
    },
    {
      "cell_type": "code",
      "source": [],
      "metadata": {
        "id": "Bs9N_ujvOVZv"
      },
      "execution_count": null,
      "outputs": []
    }
  ]
}