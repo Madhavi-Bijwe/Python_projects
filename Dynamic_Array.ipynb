{
  "nbformat": 4,
  "nbformat_minor": 0,
  "metadata": {
    "colab": {
      "provenance": [],
      "authorship_tag": "ABX9TyMaBX9I+ux/fKeSIuKo77iQ",
      "include_colab_link": true
    },
    "kernelspec": {
      "name": "python3",
      "display_name": "Python 3"
    },
    "language_info": {
      "name": "python"
    }
  },
  "cells": [
    {
      "cell_type": "markdown",
      "metadata": {
        "id": "view-in-github",
        "colab_type": "text"
      },
      "source": [
        "<a href=\"https://colab.research.google.com/github/Madhavi-Bijwe/Python_projects/blob/main/Dynamic_Array.ipynb\" target=\"_parent\"><img src=\"https://colab.research.google.com/assets/colab-badge.svg\" alt=\"Open In Colab\"/></a>"
      ]
    },
    {
      "cell_type": "code",
      "source": [
        "import ctypes"
      ],
      "metadata": {
        "id": "NHNiDE9WyEGX"
      },
      "execution_count": 4,
      "outputs": []
    },
    {
      "cell_type": "code",
      "execution_count": 86,
      "metadata": {
        "id": "SjvGOKHxPBJ-"
      },
      "outputs": [],
      "source": [
        "class MeraList:\n",
        "  def __init__(self):\n",
        "    self.size=1\n",
        "    self.n=0\n",
        "    #create a ctype array with size=self.size\n",
        "    self.A=self.__make_array(self.size)\n",
        "\n",
        "  def __len__(self):\n",
        "    return self.n\n",
        "\n",
        "  def __make_array(self,capacity):\n",
        "  #create a ctype array (static and refrential) with size capacity\n",
        "    return (capacity*ctypes.py_object)()\n",
        "\n",
        "  def append(self,item):\n",
        "    if self.size==self.n:\n",
        "      self.__resize(self.size*2)\n",
        "    self.A[self.n]=item\n",
        "    self.n=self.n+1\n",
        "\n",
        "  def __resize(self,new_capacity):\n",
        "    B=self.__make_array(new_capacity)\n",
        "    self.size=new_capacity\n",
        "    for i in range(self.n):\n",
        "      B[i]=self.A[i]\n",
        "    self.A=B\n",
        "\n",
        "  def __str__(self):\n",
        "    res=''\n",
        "    for i in range(self.n):\n",
        "      res=res+str(self.A[i])+','\n",
        "    return '[' +res[:-1]+']'\n",
        "\n",
        "  def __getitem__(self,index):\n",
        "    if 0<=index<self.n:\n",
        "      return self.A[index]\n",
        "    else:\n",
        "      return 'IndexError-index out of range'\n",
        "\n",
        "  def pop(self):\n",
        "    if self.n==0:\n",
        "      return 'Empty List'\n",
        "    print(self.A[self.n-1])\n",
        "    self.n=self.n-1\n",
        "\n",
        "  def clear(self):\n",
        "    self.size=1\n",
        "    self.n=0\n",
        "\n",
        "  def find(self,item):\n",
        "    for i in range(self.n):\n",
        "      if self.A[i]==item:\n",
        "        return i\n",
        "\n",
        "    return 'ValueError- Item not found'\n",
        "\n",
        "  def insert(self,pos,item):\n",
        "    if 0<=pos<self.n:\n",
        "      if self.n==self.size:\n",
        "        self.__resize(self.size*2)\n",
        "\n",
        "      for i in range(self.n,pos,-1):\n",
        "        self.A[i]=self.A[i-1]\n",
        "\n",
        "      self.A[pos]=item\n",
        "      self.n=self.n+1\n",
        "    else:\n",
        "      'Index out of range'\n",
        "\n",
        "  def __delitem__(self,pos):\n",
        "    if 0<=pos<self.n:\n",
        "      for i in range(pos,self.n-1):\n",
        "        self.A[i]=self.A[i+1]\n",
        "\n",
        "      self.n=self.n-1\n",
        "    else:\n",
        "      'Index out of range'\n",
        "\n",
        "  def remove(self,item):\n",
        "    pos=self.find(item)\n",
        "    if type(pos)==int:\n",
        "      self.__delitem__(pos)\n",
        "    else:\n",
        "      return pos\n"
      ]
    },
    {
      "cell_type": "code",
      "source": [
        "L=MeraList()\n",
        "len(L)\n",
        "L.append('hello')\n",
        "L.append(45)\n",
        "\n",
        "print(L)\n",
        "L[1]\n",
        "L.pop()\n",
        "L.find(45)\n",
        "L.clear()\n",
        "\n",
        "L.insert(1,489)\n",
        "\n",
        "del L[45]\n",
        "\n",
        "L.remove(45)"
      ],
      "metadata": {
        "colab": {
          "base_uri": "https://localhost:8080/"
        },
        "id": "EokrMRAaxYwO",
        "outputId": "9cbf1106-4f2d-42a3-b35d-65ef02795897"
      },
      "execution_count": 90,
      "outputs": [
        {
          "output_type": "stream",
          "name": "stdout",
          "text": [
            "[hello]\n"
          ]
        }
      ]
    }
  ]
}