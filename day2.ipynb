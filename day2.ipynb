{
  "nbformat": 4,
  "nbformat_minor": 0,
  "metadata": {
    "colab": {
      "provenance": [],
      "authorship_tag": "ABX9TyM+uRXr0JJVTBnA1NJ+hsud",
      "include_colab_link": true
    },
    "kernelspec": {
      "name": "python3",
      "display_name": "Python 3"
    },
    "language_info": {
      "name": "python"
    }
  },
  "cells": [
    {
      "cell_type": "markdown",
      "metadata": {
        "id": "view-in-github",
        "colab_type": "text"
      },
      "source": [
        "<a href=\"https://colab.research.google.com/github/Madhavi-Bijwe/Python_projects/blob/Python-Basics/day2.ipynb\" target=\"_parent\"><img src=\"https://colab.research.google.com/assets/colab-badge.svg\" alt=\"Open In Colab\"/></a>"
      ]
    },
    {
      "cell_type": "markdown",
      "source": [
        "    7.  Write a python program that displays a message as follows for a given number:\n",
        "If it is a multiple of three, display \"Zip\"\n",
        "If it is a multiple of five, display \"Zap\".\n",
        "If it is a multiple of both three and five, display \"Zoom\".\n",
        "If it does not satisfy any of the above given conditions, display \"Invalid\"."
      ],
      "metadata": {
        "id": "_4x75LMWrkd7"
      }
    },
    {
      "cell_type": "code",
      "execution_count": null,
      "metadata": {
        "colab": {
          "base_uri": "https://localhost:8080/"
        },
        "id": "fX48beXUnnes",
        "outputId": "c3119b22-5c07-4d2b-e537-faa8ce243608"
      },
      "outputs": [
        {
          "output_type": "stream",
          "name": "stdout",
          "text": [
            "Enter a number : 20\n",
            "Zap\n"
          ]
        }
      ],
      "source": [
        "num=int(input(\"Enter a number : \"))\n",
        "if num%3==0 and num%5==0:\n",
        "  print(\"Zoom\")\n",
        "elif num%3==0:\n",
        "  print(\"Zip\")\n",
        "elif num%5==0:\n",
        "  print(\"Zap\")\n",
        "else:\n",
        "  print(\"Invalid\")\n"
      ]
    },
    {
      "cell_type": "markdown",
      "source": [
        " 8.\tA teacher in a school wants to find and display the grade of a student based on his/her percentage score. The criterion for grades is as given below:\n",
        "Score (both inclusive)\n",
        "Grade Between 80 and 100: A\n",
        "Between 73 and 79: B\n",
        "Between 65 and 72: C\n",
        "Between 0 and 64: D\n",
        "Any other value: Z\n",
        "\n",
        "Assume that the percentage score is a whole number. Write a python program for the above requirement."
      ],
      "metadata": {
        "id": "39Cgf7cRshnj"
      }
    },
    {
      "cell_type": "code",
      "source": [
        "perc=int(input(\"Enter your percentage : \"))\n",
        "if perc>80:\n",
        "  print(\"Grade A\")\n",
        "elif perc<=79 and perc>=73:\n",
        "  print(\"Grade B\")\n",
        "elif perc<=72 and perc>=65:\n",
        "  print(\"Grade C\")\n",
        "elif perc<=64:\n",
        "  print(\"Grade D\")\n",
        "else:\n",
        "  print(\"Grade Z\")"
      ],
      "metadata": {
        "colab": {
          "base_uri": "https://localhost:8080/"
        },
        "id": "Tlz4eN74spJr",
        "outputId": "57a2d6ac-ce29-41d3-f0e8-efb048012cd6"
      },
      "execution_count": null,
      "outputs": [
        {
          "output_type": "stream",
          "name": "stdout",
          "text": [
            "Enter your percentage : 73\n",
            "Grade B\n"
          ]
        }
      ]
    },
    {
      "cell_type": "markdown",
      "source": [
        "9. Write a python program to find and display the product of three positive integer values based on the rule mentioned below:\n",
        "\n",
        "It should display the product of the three values except when one of the integer value is 7. In that case, 7 should not be included in the product and the values to its left also should not be included.\n",
        "If there is only one value to be considered, display that value itself. If no values can be included in the product, display -1.\n",
        "\n",
        "Note: Assume that if 7 is one of the positive integer values, then it will occur only once. Refer the sample I/O given below. Input: 2, 7, 3\n",
        "7 is in the middle. Ignore 2 and 7. Only 3 remains.\n",
        "Output: 3\n"
      ],
      "metadata": {
        "id": "JZ7kKsKeuhx6"
      }
    },
    {
      "cell_type": "code",
      "source": [
        "a,b,c=map(int,input(\"Enter three digits : \").split())\n",
        "\n",
        "if a==7:\n",
        "   print(b*c)\n",
        "elif b==7:\n",
        "  print(c)\n",
        "elif c==7:\n",
        "  print(-1)\n",
        "else:\n",
        "  print(a*b*c)"
      ],
      "metadata": {
        "colab": {
          "base_uri": "https://localhost:8080/"
        },
        "id": "sbhEv0wSvNXQ",
        "outputId": "83fb6259-1ecf-45fb-d43a-845271aa46ec"
      },
      "execution_count": 18,
      "outputs": [
        {
          "output_type": "stream",
          "name": "stdout",
          "text": [
            "Enter three digits : 78 5 7\n",
            "-1\n"
          ]
        }
      ]
    },
    {
      "cell_type": "markdown",
      "source": [
        "You have:\n",
        "\n",
        "x → number of 5-rupee coins\n",
        "\n",
        "y → number of 1-rupee coins\n",
        "\n",
        "z → amount to pay\n",
        "\n",
        "Goal:\n",
        "\n",
        "Pay the amount z using minimum number of coins.\n",
        "\n",
        "Use as many 5-rupee coins as possible first, then 1-rupee coins.\n",
        "\n",
        "If exact change is not possible, output -1."
      ],
      "metadata": {
        "id": "zdrMnAQDxtPX"
      }
    },
    {
      "cell_type": "code",
      "source": [
        "x = int(input(\"Available 5-rupee coins: \"))\n",
        "y = int(input(\"Available 1-rupee coins: \"))\n",
        "z = int(input(\"Amount to be made: \"))\n",
        "\n",
        "five_used = min(x, z // 5)\n",
        "remaining = z - five_used * 5\n",
        "\n",
        "if remaining <= y:\n",
        "    one_used = remaining\n",
        "    print(f\"5-rupee coins needed: {five_used}\")\n",
        "    print(f\"1-rupee coins needed: {one_used}\")\n",
        "else:\n",
        "    print(-1)\n"
      ],
      "metadata": {
        "colab": {
          "base_uri": "https://localhost:8080/"
        },
        "id": "HhgOiShFxyqJ",
        "outputId": "9defc8ff-922c-4e3a-ff03-70d736d2e030"
      },
      "execution_count": 29,
      "outputs": [
        {
          "output_type": "stream",
          "name": "stdout",
          "text": [
            "Available 5-rupee coins: 2\n",
            "Available 1-rupee coins: 40\n",
            "Amount to be made: 31\n",
            "5-rupee coins needed: 2\n",
            "1-rupee coins needed: 21\n"
          ]
        }
      ]
    }
  ]
}